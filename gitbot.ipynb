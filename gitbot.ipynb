{
  "nbformat": 4,
  "nbformat_minor": 0,
  "metadata": {
    "colab": {
      "provenance": [],
      "gpuType": "T4",
      "authorship_tag": "ABX9TyN+H8u7RsFIQ0UqSEKanaxu",
      "include_colab_link": true
    },
    "kernelspec": {
      "name": "python3",
      "display_name": "Python 3"
    },
    "language_info": {
      "name": "python"
    },
    "accelerator": "GPU"
  },
  "cells": [
    {
      "cell_type": "markdown",
      "metadata": {
        "id": "view-in-github",
        "colab_type": "text"
      },
      "source": [
        "<a href=\"https://colab.research.google.com/github/thedavidemmanuel/chatbot-with-transformers/blob/main/gitbot.ipynb\" target=\"_parent\"><img src=\"https://colab.research.google.com/assets/colab-badge.svg\" alt=\"Open In Colab\"/></a>"
      ]
    },
    {
      "cell_type": "markdown",
      "source": [
        "#GitHub Support Chatbot Using BERT\n",
        "## BSE - ML Techniques I Assignment\n",
        "\n",
        "Dataset Source: Custom GitHub support dataset (gitbotdataset.csv)\n",
        "\n",
        "Architecture: BERT + Neural Network\n",
        "\n",
        "Author: David Emmanuel\n",
        "\n",
        "Date: October 2024\n",
        "\"\"\""
      ],
      "metadata": {
        "id": "0Uz0hOIIx2Ch"
      }
    },
    {
      "cell_type": "markdown",
      "source": [
        "# 1. Import Required Libraries"
      ],
      "metadata": {
        "id": "uSt3F-KlyV87"
      }
    },
    {
      "cell_type": "code",
      "execution_count": 14,
      "metadata": {
        "id": "AOBi0KV5rfT-",
        "colab": {
          "base_uri": "https://localhost:8080/"
        },
        "outputId": "ef53d546-071f-48e9-e2e8-570aea3639ec"
      },
      "outputs": [
        {
          "output_type": "stream",
          "name": "stderr",
          "text": [
            "[nltk_data] Downloading package punkt to /root/nltk_data...\n",
            "[nltk_data]   Package punkt is already up-to-date!\n",
            "[nltk_data] Downloading package wordnet to /root/nltk_data...\n",
            "[nltk_data]   Package wordnet is already up-to-date!\n"
          ]
        },
        {
          "output_type": "execute_result",
          "data": {
            "text/plain": [
              "True"
            ]
          },
          "metadata": {},
          "execution_count": 14
        }
      ],
      "source": [
        "# Import Required Libraries\n",
        "import numpy as np\n",
        "import pandas as pd\n",
        "import json\n",
        "import pickle\n",
        "import random\n",
        "import torch\n",
        "from sklearn.model_selection import train_test_split\n",
        "from sklearn.metrics import accuracy_score, f1_score, confusion_matrix\n",
        "from sklearn.preprocessing import LabelBinarizer\n",
        "import matplotlib.pyplot as plt\n",
        "import seaborn as sns\n",
        "from transformers import BertTokenizer, BertModel\n",
        "import nltk\n",
        "from nltk.stem import WordNetLemmatizer\n",
        "from tensorflow.keras.models import Sequential\n",
        "from tensorflow.keras.layers import Dense, Dropout\n",
        "from tensorflow.keras.optimizers import SGD\n",
        "from tensorflow.keras.optimizers.schedules import ExponentialDecay\n",
        "\n",
        "# Download required NLTK data\n",
        "nltk.download('punkt')\n",
        "nltk.download('wordnet')\n"
      ]
    },
    {
      "cell_type": "markdown",
      "source": [
        "# 2. Load and Explore Data"
      ],
      "metadata": {
        "id": "meDefpXsy0pc"
      }
    },
    {
      "cell_type": "code",
      "source": [
        "# Load and Explore Data\n",
        "print(\"Loading dataset...\")\n",
        "df = pd.read_csv(\"/content/gitbotdataset.csv\")\n",
        "\n",
        "print(\"\\nDataset Overview:\")\n",
        "print(f\"Total samples: {len(df)}\")\n",
        "print(\"\\nSample distribution by intent:\")\n",
        "print(df['Intent'].value_counts())"
      ],
      "metadata": {
        "colab": {
          "base_uri": "https://localhost:8080/"
        },
        "id": "1_dGLzhFu-rl",
        "outputId": "4123a6e2-6bf2-480e-9343-6dbb9bb0cba2"
      },
      "execution_count": 15,
      "outputs": [
        {
          "output_type": "stream",
          "name": "stdout",
          "text": [
            "Loading dataset...\n",
            "\n",
            "Dataset Overview:\n",
            "Total samples: 341\n",
            "\n",
            "Sample distribution by intent:\n",
            "Intent\n",
            "git_pull              27\n",
            "greetings             24\n",
            "clone_repo            23\n",
            "repo_delete           23\n",
            "commit_changes        22\n",
            "thanks                20\n",
            "goodbye               20\n",
            "repo_status           19\n",
            "create_repo           19\n",
            "git_push              16\n",
            "actions_workflows     16\n",
            "issue_creation        13\n",
            "pull_request          13\n",
            "repo_collaboration    13\n",
            "merge_conflict        13\n",
            "branch_management     12\n",
            "repo_visibility       12\n",
            "issue_labels          11\n",
            "fork_repo             10\n",
            "settings_changes      10\n",
            "milestones             2\n",
            "git_ignore             2\n",
            "notifications          1\n",
            "Name: count, dtype: int64\n"
          ]
        }
      ]
    },
    {
      "cell_type": "markdown",
      "source": [
        "# 3. Data Preprocessing"
      ],
      "metadata": {
        "id": "KcDti5H21ygs"
      }
    },
    {
      "cell_type": "code",
      "source": [
        "# Data Preprocessing\n",
        "print(\"\\nPreprocessing data...\")\n",
        "\n",
        "# Initialize BERT models\n",
        "tokenizer = BertTokenizer.from_pretrained('bert-base-uncased')\n",
        "bert_model = BertModel.from_pretrained('bert-base-uncased')\n",
        "lemmatizer = WordNetLemmatizer()\n",
        "\n",
        "# Create intents dictionary\n",
        "dict_ = {\"intents\": []}\n",
        "for _, row in df.iterrows():\n",
        "    dict1 = {\n",
        "        'tags': [row['Intent']],\n",
        "        'patterns': [row['Example User Input'].strip('\"')],\n",
        "        'responses': [row['Bot Response'].strip('\"')]\n",
        "    }\n",
        "    dict_['intents'].append(dict1)\n",
        "\n",
        "# Save intents\n",
        "with open(\"github_intents.json\", \"w\") as f:\n",
        "    json.dump(dict_, f)\n",
        "\n",
        "# Initialize processing lists\n",
        "words = []\n",
        "classes = []\n",
        "documents = []\n",
        "ignore_letters = ['?', '!', '.', ',']"
      ],
      "metadata": {
        "colab": {
          "base_uri": "https://localhost:8080/"
        },
        "id": "JxJnlPb7vHpN",
        "outputId": "1cb7fa64-c248-468e-d940-0beaf7be0698"
      },
      "execution_count": 16,
      "outputs": [
        {
          "output_type": "stream",
          "name": "stdout",
          "text": [
            "\n",
            "Preprocessing data...\n"
          ]
        },
        {
          "output_type": "stream",
          "name": "stderr",
          "text": [
            "/usr/local/lib/python3.10/dist-packages/transformers/tokenization_utils_base.py:1601: FutureWarning: `clean_up_tokenization_spaces` was not set. It will be set to `True` by default. This behavior will be depracted in transformers v4.45, and will be then set to `False` by default. For more details check this issue: https://github.com/huggingface/transformers/issues/31884\n",
            "  warnings.warn(\n"
          ]
        }
      ]
    },
    {
      "cell_type": "markdown",
      "source": [
        "# 4. Feature Extraction using BERT"
      ],
      "metadata": {
        "id": "hS8XODtn19pt"
      }
    },
    {
      "cell_type": "code",
      "source": [
        "# Feature Extraction using BERT\n",
        "\n",
        "def get_bert_embedding(sentence):\n",
        "    \"\"\"Extract BERT embeddings for a given sentence\"\"\"\n",
        "    inputs = tokenizer(sentence, return_tensors='pt', padding=True, truncation=True)\n",
        "    with torch.no_grad():\n",
        "        outputs = bert_model(**inputs)\n",
        "    return outputs.last_hidden_state.mean(dim=1).detach().numpy()\n",
        "\n",
        "# Process intents\n",
        "for intent in dict_['intents']:\n",
        "    for pattern in intent['patterns']:\n",
        "        if isinstance(pattern, str):\n",
        "            word_list = tokenizer.tokenize(pattern)\n",
        "            words.extend(word_list)\n",
        "            documents.append((pattern, intent['tags'][0]))\n",
        "            if intent['tags'][0] not in classes:\n",
        "                classes.append(intent['tags'][0])\n",
        "\n",
        "# Lemmatize and sort words\n",
        "words = [lemmatizer.lemmatize(word.lower()) for word in words if word not in ignore_letters]\n",
        "words = sorted(set(words))\n",
        "classes = sorted(set(classes))\n",
        "\n",
        "# Save preprocessed data\n",
        "pickle.dump(words, open('github_words.pkl', 'wb'))\n",
        "pickle.dump(classes, open('github_classes.pkl', 'wb'))"
      ],
      "metadata": {
        "id": "v3Y9uw7UvXjB"
      },
      "execution_count": 17,
      "outputs": []
    },
    {
      "cell_type": "markdown",
      "source": [
        "# 5. Prepare Training Data"
      ],
      "metadata": {
        "id": "JafrLDWl2DwO"
      }
    },
    {
      "cell_type": "code",
      "source": [
        "# Prepare Training Data\n",
        "\n",
        "print(\"\\nPreparing training data...\")\n",
        "training = []\n",
        "label_binarizer = LabelBinarizer()\n",
        "label_binarizer.fit(classes)\n",
        "\n",
        "for document in documents:\n",
        "    pattern = document[0]\n",
        "    tag = document[1]\n",
        "    embedding = get_bert_embedding(pattern)\n",
        "    output_row = label_binarizer.transform([tag])[0]\n",
        "    training.append((embedding.flatten(), output_row))\n",
        "\n",
        "random.shuffle(training)\n",
        "training = np.array(training, dtype=object)\n",
        "\n",
        "# Split data into features and labels\n",
        "X = np.array([item[0] for item in training])\n",
        "y = np.array([item[1] for item in training])\n",
        "\n",
        "# Split into train and validation sets\n",
        "X_train, X_val, y_train, y_val = train_test_split(X, y, test_size=0.2, random_state=42)\n"
      ],
      "metadata": {
        "id": "3tcsMdwtveTX",
        "colab": {
          "base_uri": "https://localhost:8080/"
        },
        "outputId": "0226f565-3cc8-445d-8413-2118d4ea3046"
      },
      "execution_count": 18,
      "outputs": [
        {
          "output_type": "stream",
          "name": "stdout",
          "text": [
            "\n",
            "Preparing training data...\n"
          ]
        }
      ]
    },
    {
      "cell_type": "markdown",
      "source": [
        "# 6. Model Architecture"
      ],
      "metadata": {
        "id": "yX8Hh6dM2eDv"
      }
    },
    {
      "cell_type": "code",
      "source": [
        "# Model Architecture\n",
        "\n",
        "print(\"\\nBuilding model...\")\n",
        "model = Sequential()\n",
        "model.add(Dense(128, input_shape=(len(X_train[0]),), activation='relu'))\n",
        "model.add(Dropout(0.2))\n",
        "model.add(Dense(64, activation='relu'))\n",
        "model.add(Dropout(0.2))\n",
        "model.add(Dense(len(y_train[0]), activation='softmax'))\n",
        "\n",
        "# Learning rate schedule for better convergence\n",
        "lr_schedule = ExponentialDecay(\n",
        "    initial_learning_rate=0.0001,\n",
        "    decay_steps=100000,\n",
        "    decay_rate=0.96,\n",
        "    staircase=True\n",
        ")\n",
        "\n",
        "# Compile model with multiple metrics\n",
        "model.compile(loss='categorical_crossentropy',\n",
        "             optimizer='adam',\n",
        "             metrics=['accuracy', 'Precision', 'Recall'])\n",
        "\n",
        "print(\"\\nModel Summary:\")\n",
        "model.summary()\n"
      ],
      "metadata": {
        "id": "I3mcBbJ6vpHM",
        "colab": {
          "base_uri": "https://localhost:8080/",
          "height": 413
        },
        "outputId": "cd47a6c9-b314-417f-ebbe-6b6d1bd55736"
      },
      "execution_count": 19,
      "outputs": [
        {
          "output_type": "stream",
          "name": "stdout",
          "text": [
            "\n",
            "Building model...\n",
            "\n",
            "Model Summary:\n"
          ]
        },
        {
          "output_type": "stream",
          "name": "stderr",
          "text": [
            "/usr/local/lib/python3.10/dist-packages/keras/src/layers/core/dense.py:87: UserWarning: Do not pass an `input_shape`/`input_dim` argument to a layer. When using Sequential models, prefer using an `Input(shape)` object as the first layer in the model instead.\n",
            "  super().__init__(activity_regularizer=activity_regularizer, **kwargs)\n"
          ]
        },
        {
          "output_type": "display_data",
          "data": {
            "text/plain": [
              "\u001b[1mModel: \"sequential_2\"\u001b[0m\n"
            ],
            "text/html": [
              "<pre style=\"white-space:pre;overflow-x:auto;line-height:normal;font-family:Menlo,'DejaVu Sans Mono',consolas,'Courier New',monospace\"><span style=\"font-weight: bold\">Model: \"sequential_2\"</span>\n",
              "</pre>\n"
            ]
          },
          "metadata": {}
        },
        {
          "output_type": "display_data",
          "data": {
            "text/plain": [
              "┏━━━━━━━━━━━━━━━━━━━━━━━━━━━━━━━━━━━━━━┳━━━━━━━━━━━━━━━━━━━━━━━━━━━━━┳━━━━━━━━━━━━━━━━━┓\n",
              "┃\u001b[1m \u001b[0m\u001b[1mLayer (type)                        \u001b[0m\u001b[1m \u001b[0m┃\u001b[1m \u001b[0m\u001b[1mOutput Shape               \u001b[0m\u001b[1m \u001b[0m┃\u001b[1m \u001b[0m\u001b[1m        Param #\u001b[0m\u001b[1m \u001b[0m┃\n",
              "┡━━━━━━━━━━━━━━━━━━━━━━━━━━━━━━━━━━━━━━╇━━━━━━━━━━━━━━━━━━━━━━━━━━━━━╇━━━━━━━━━━━━━━━━━┩\n",
              "│ dense_6 (\u001b[38;5;33mDense\u001b[0m)                      │ (\u001b[38;5;45mNone\u001b[0m, \u001b[38;5;34m128\u001b[0m)                 │          \u001b[38;5;34m98,432\u001b[0m │\n",
              "├──────────────────────────────────────┼─────────────────────────────┼─────────────────┤\n",
              "│ dropout_4 (\u001b[38;5;33mDropout\u001b[0m)                  │ (\u001b[38;5;45mNone\u001b[0m, \u001b[38;5;34m128\u001b[0m)                 │               \u001b[38;5;34m0\u001b[0m │\n",
              "├──────────────────────────────────────┼─────────────────────────────┼─────────────────┤\n",
              "│ dense_7 (\u001b[38;5;33mDense\u001b[0m)                      │ (\u001b[38;5;45mNone\u001b[0m, \u001b[38;5;34m64\u001b[0m)                  │           \u001b[38;5;34m8,256\u001b[0m │\n",
              "├──────────────────────────────────────┼─────────────────────────────┼─────────────────┤\n",
              "│ dropout_5 (\u001b[38;5;33mDropout\u001b[0m)                  │ (\u001b[38;5;45mNone\u001b[0m, \u001b[38;5;34m64\u001b[0m)                  │               \u001b[38;5;34m0\u001b[0m │\n",
              "├──────────────────────────────────────┼─────────────────────────────┼─────────────────┤\n",
              "│ dense_8 (\u001b[38;5;33mDense\u001b[0m)                      │ (\u001b[38;5;45mNone\u001b[0m, \u001b[38;5;34m23\u001b[0m)                  │           \u001b[38;5;34m1,495\u001b[0m │\n",
              "└──────────────────────────────────────┴─────────────────────────────┴─────────────────┘\n"
            ],
            "text/html": [
              "<pre style=\"white-space:pre;overflow-x:auto;line-height:normal;font-family:Menlo,'DejaVu Sans Mono',consolas,'Courier New',monospace\">┏━━━━━━━━━━━━━━━━━━━━━━━━━━━━━━━━━━━━━━┳━━━━━━━━━━━━━━━━━━━━━━━━━━━━━┳━━━━━━━━━━━━━━━━━┓\n",
              "┃<span style=\"font-weight: bold\"> Layer (type)                         </span>┃<span style=\"font-weight: bold\"> Output Shape                </span>┃<span style=\"font-weight: bold\">         Param # </span>┃\n",
              "┡━━━━━━━━━━━━━━━━━━━━━━━━━━━━━━━━━━━━━━╇━━━━━━━━━━━━━━━━━━━━━━━━━━━━━╇━━━━━━━━━━━━━━━━━┩\n",
              "│ dense_6 (<span style=\"color: #0087ff; text-decoration-color: #0087ff\">Dense</span>)                      │ (<span style=\"color: #00d7ff; text-decoration-color: #00d7ff\">None</span>, <span style=\"color: #00af00; text-decoration-color: #00af00\">128</span>)                 │          <span style=\"color: #00af00; text-decoration-color: #00af00\">98,432</span> │\n",
              "├──────────────────────────────────────┼─────────────────────────────┼─────────────────┤\n",
              "│ dropout_4 (<span style=\"color: #0087ff; text-decoration-color: #0087ff\">Dropout</span>)                  │ (<span style=\"color: #00d7ff; text-decoration-color: #00d7ff\">None</span>, <span style=\"color: #00af00; text-decoration-color: #00af00\">128</span>)                 │               <span style=\"color: #00af00; text-decoration-color: #00af00\">0</span> │\n",
              "├──────────────────────────────────────┼─────────────────────────────┼─────────────────┤\n",
              "│ dense_7 (<span style=\"color: #0087ff; text-decoration-color: #0087ff\">Dense</span>)                      │ (<span style=\"color: #00d7ff; text-decoration-color: #00d7ff\">None</span>, <span style=\"color: #00af00; text-decoration-color: #00af00\">64</span>)                  │           <span style=\"color: #00af00; text-decoration-color: #00af00\">8,256</span> │\n",
              "├──────────────────────────────────────┼─────────────────────────────┼─────────────────┤\n",
              "│ dropout_5 (<span style=\"color: #0087ff; text-decoration-color: #0087ff\">Dropout</span>)                  │ (<span style=\"color: #00d7ff; text-decoration-color: #00d7ff\">None</span>, <span style=\"color: #00af00; text-decoration-color: #00af00\">64</span>)                  │               <span style=\"color: #00af00; text-decoration-color: #00af00\">0</span> │\n",
              "├──────────────────────────────────────┼─────────────────────────────┼─────────────────┤\n",
              "│ dense_8 (<span style=\"color: #0087ff; text-decoration-color: #0087ff\">Dense</span>)                      │ (<span style=\"color: #00d7ff; text-decoration-color: #00d7ff\">None</span>, <span style=\"color: #00af00; text-decoration-color: #00af00\">23</span>)                  │           <span style=\"color: #00af00; text-decoration-color: #00af00\">1,495</span> │\n",
              "└──────────────────────────────────────┴─────────────────────────────┴─────────────────┘\n",
              "</pre>\n"
            ]
          },
          "metadata": {}
        },
        {
          "output_type": "display_data",
          "data": {
            "text/plain": [
              "\u001b[1m Total params: \u001b[0m\u001b[38;5;34m108,183\u001b[0m (422.59 KB)\n"
            ],
            "text/html": [
              "<pre style=\"white-space:pre;overflow-x:auto;line-height:normal;font-family:Menlo,'DejaVu Sans Mono',consolas,'Courier New',monospace\"><span style=\"font-weight: bold\"> Total params: </span><span style=\"color: #00af00; text-decoration-color: #00af00\">108,183</span> (422.59 KB)\n",
              "</pre>\n"
            ]
          },
          "metadata": {}
        },
        {
          "output_type": "display_data",
          "data": {
            "text/plain": [
              "\u001b[1m Trainable params: \u001b[0m\u001b[38;5;34m108,183\u001b[0m (422.59 KB)\n"
            ],
            "text/html": [
              "<pre style=\"white-space:pre;overflow-x:auto;line-height:normal;font-family:Menlo,'DejaVu Sans Mono',consolas,'Courier New',monospace\"><span style=\"font-weight: bold\"> Trainable params: </span><span style=\"color: #00af00; text-decoration-color: #00af00\">108,183</span> (422.59 KB)\n",
              "</pre>\n"
            ]
          },
          "metadata": {}
        },
        {
          "output_type": "display_data",
          "data": {
            "text/plain": [
              "\u001b[1m Non-trainable params: \u001b[0m\u001b[38;5;34m0\u001b[0m (0.00 B)\n"
            ],
            "text/html": [
              "<pre style=\"white-space:pre;overflow-x:auto;line-height:normal;font-family:Menlo,'DejaVu Sans Mono',consolas,'Courier New',monospace\"><span style=\"font-weight: bold\"> Non-trainable params: </span><span style=\"color: #00af00; text-decoration-color: #00af00\">0</span> (0.00 B)\n",
              "</pre>\n"
            ]
          },
          "metadata": {}
        }
      ]
    },
    {
      "cell_type": "markdown",
      "source": [
        "# 7. Model Training"
      ],
      "metadata": {
        "id": "pC_Eemye2rz1"
      }
    },
    {
      "cell_type": "code",
      "source": [
        "# Model Training\n",
        "\n",
        "print(\"\\nTraining model...\")\n",
        "history = model.fit(X_train, y_train,\n",
        "                   epochs=50,\n",
        "                   batch_size=12,\n",
        "                   validation_data=(X_val, y_val),\n",
        "                   verbose=1)"
      ],
      "metadata": {
        "id": "GXIGayiwvxay",
        "colab": {
          "base_uri": "https://localhost:8080/"
        },
        "outputId": "e85c99cf-4208-43c5-8f53-0a7bda4a46ab"
      },
      "execution_count": 20,
      "outputs": [
        {
          "output_type": "stream",
          "name": "stdout",
          "text": [
            "\n",
            "Training model...\n",
            "Epoch 1/50\n",
            "\u001b[1m23/23\u001b[0m \u001b[32m━━━━━━━━━━━━━━━━━━━━\u001b[0m\u001b[37m\u001b[0m \u001b[1m8s\u001b[0m 162ms/step - Precision: 0.0000e+00 - Recall: 0.0000e+00 - accuracy: 0.0548 - loss: 3.1732 - val_Precision: 0.0000e+00 - val_Recall: 0.0000e+00 - val_accuracy: 0.3333 - val_loss: 2.8392\n",
            "Epoch 2/50\n",
            "\u001b[1m23/23\u001b[0m \u001b[32m━━━━━━━━━━━━━━━━━━━━\u001b[0m\u001b[37m\u001b[0m \u001b[1m4s\u001b[0m 4ms/step - Precision: 0.1667 - Recall: 6.2954e-04 - accuracy: 0.3171 - loss: 2.7246 - val_Precision: 0.0000e+00 - val_Recall: 0.0000e+00 - val_accuracy: 0.4058 - val_loss: 2.4335\n",
            "Epoch 3/50\n",
            "\u001b[1m23/23\u001b[0m \u001b[32m━━━━━━━━━━━━━━━━━━━━\u001b[0m\u001b[37m\u001b[0m \u001b[1m0s\u001b[0m 4ms/step - Precision: 0.7500 - Recall: 0.0267 - accuracy: 0.3743 - loss: 2.3748 - val_Precision: 0.9091 - val_Recall: 0.1449 - val_accuracy: 0.5072 - val_loss: 1.9967\n",
            "Epoch 4/50\n",
            "\u001b[1m23/23\u001b[0m \u001b[32m━━━━━━━━━━━━━━━━━━━━\u001b[0m\u001b[37m\u001b[0m \u001b[1m0s\u001b[0m 4ms/step - Precision: 0.8907 - Recall: 0.1705 - accuracy: 0.4671 - loss: 1.9410 - val_Precision: 0.8333 - val_Recall: 0.2174 - val_accuracy: 0.5362 - val_loss: 1.7250\n",
            "Epoch 5/50\n",
            "\u001b[1m23/23\u001b[0m \u001b[32m━━━━━━━━━━━━━━━━━━━━\u001b[0m\u001b[37m\u001b[0m \u001b[1m0s\u001b[0m 3ms/step - Precision: 0.9500 - Recall: 0.3187 - accuracy: 0.5981 - loss: 1.4912 - val_Precision: 0.9167 - val_Recall: 0.3188 - val_accuracy: 0.5797 - val_loss: 1.5431\n",
            "Epoch 6/50\n",
            "\u001b[1m23/23\u001b[0m \u001b[32m━━━━━━━━━━━━━━━━━━━━\u001b[0m\u001b[37m\u001b[0m \u001b[1m0s\u001b[0m 4ms/step - Precision: 0.9553 - Recall: 0.3521 - accuracy: 0.6450 - loss: 1.3565 - val_Precision: 0.7931 - val_Recall: 0.3333 - val_accuracy: 0.6377 - val_loss: 1.3739\n",
            "Epoch 7/50\n",
            "\u001b[1m23/23\u001b[0m \u001b[32m━━━━━━━━━━━━━━━━━━━━\u001b[0m\u001b[37m\u001b[0m \u001b[1m0s\u001b[0m 4ms/step - Precision: 0.9469 - Recall: 0.5012 - accuracy: 0.7391 - loss: 1.0425 - val_Precision: 0.7714 - val_Recall: 0.3913 - val_accuracy: 0.6522 - val_loss: 1.2428\n",
            "Epoch 8/50\n",
            "\u001b[1m23/23\u001b[0m \u001b[32m━━━━━━━━━━━━━━━━━━━━\u001b[0m\u001b[37m\u001b[0m \u001b[1m0s\u001b[0m 4ms/step - Precision: 0.9345 - Recall: 0.5134 - accuracy: 0.8047 - loss: 0.9245 - val_Precision: 0.8056 - val_Recall: 0.4203 - val_accuracy: 0.6522 - val_loss: 1.1630\n",
            "Epoch 9/50\n",
            "\u001b[1m23/23\u001b[0m \u001b[32m━━━━━━━━━━━━━━━━━━━━\u001b[0m\u001b[37m\u001b[0m \u001b[1m0s\u001b[0m 4ms/step - Precision: 0.9526 - Recall: 0.6048 - accuracy: 0.7929 - loss: 0.8418 - val_Precision: 0.7955 - val_Recall: 0.5072 - val_accuracy: 0.6232 - val_loss: 1.1159\n",
            "Epoch 10/50\n",
            "\u001b[1m23/23\u001b[0m \u001b[32m━━━━━━━━━━━━━━━━━━━━\u001b[0m\u001b[37m\u001b[0m \u001b[1m0s\u001b[0m 4ms/step - Precision: 0.9452 - Recall: 0.6198 - accuracy: 0.7968 - loss: 0.7404 - val_Precision: 0.8293 - val_Recall: 0.4928 - val_accuracy: 0.6957 - val_loss: 1.1270\n",
            "Epoch 11/50\n",
            "\u001b[1m23/23\u001b[0m \u001b[32m━━━━━━━━━━━━━━━━━━━━\u001b[0m\u001b[37m\u001b[0m \u001b[1m0s\u001b[0m 3ms/step - Precision: 0.9797 - Recall: 0.6936 - accuracy: 0.8453 - loss: 0.6856 - val_Precision: 0.8043 - val_Recall: 0.5362 - val_accuracy: 0.6957 - val_loss: 0.9930\n",
            "Epoch 12/50\n",
            "\u001b[1m23/23\u001b[0m \u001b[32m━━━━━━━━━━━━━━━━━━━━\u001b[0m\u001b[37m\u001b[0m \u001b[1m0s\u001b[0m 4ms/step - Precision: 0.9499 - Recall: 0.7624 - accuracy: 0.8647 - loss: 0.5017 - val_Precision: 0.8636 - val_Recall: 0.5507 - val_accuracy: 0.7391 - val_loss: 0.9975\n",
            "Epoch 13/50\n",
            "\u001b[1m23/23\u001b[0m \u001b[32m━━━━━━━━━━━━━━━━━━━━\u001b[0m\u001b[37m\u001b[0m \u001b[1m0s\u001b[0m 4ms/step - Precision: 0.9761 - Recall: 0.7730 - accuracy: 0.8706 - loss: 0.4511 - val_Precision: 0.7872 - val_Recall: 0.5362 - val_accuracy: 0.7101 - val_loss: 0.9686\n",
            "Epoch 14/50\n",
            "\u001b[1m23/23\u001b[0m \u001b[32m━━━━━━━━━━━━━━━━━━━━\u001b[0m\u001b[37m\u001b[0m \u001b[1m0s\u001b[0m 4ms/step - Precision: 0.9525 - Recall: 0.7968 - accuracy: 0.8926 - loss: 0.4070 - val_Precision: 0.7059 - val_Recall: 0.5217 - val_accuracy: 0.6812 - val_loss: 0.9808\n",
            "Epoch 15/50\n",
            "\u001b[1m23/23\u001b[0m \u001b[32m━━━━━━━━━━━━━━━━━━━━\u001b[0m\u001b[37m\u001b[0m \u001b[1m0s\u001b[0m 4ms/step - Precision: 0.9637 - Recall: 0.8195 - accuracy: 0.9176 - loss: 0.3687 - val_Precision: 0.8039 - val_Recall: 0.5942 - val_accuracy: 0.7536 - val_loss: 0.9421\n",
            "Epoch 16/50\n",
            "\u001b[1m23/23\u001b[0m \u001b[32m━━━━━━━━━━━━━━━━━━━━\u001b[0m\u001b[37m\u001b[0m \u001b[1m0s\u001b[0m 4ms/step - Precision: 0.9773 - Recall: 0.8436 - accuracy: 0.9464 - loss: 0.3600 - val_Precision: 0.8000 - val_Recall: 0.5797 - val_accuracy: 0.7101 - val_loss: 0.9586\n",
            "Epoch 17/50\n",
            "\u001b[1m23/23\u001b[0m \u001b[32m━━━━━━━━━━━━━━━━━━━━\u001b[0m\u001b[37m\u001b[0m \u001b[1m0s\u001b[0m 3ms/step - Precision: 0.9646 - Recall: 0.8575 - accuracy: 0.9333 - loss: 0.3402 - val_Precision: 0.7818 - val_Recall: 0.6232 - val_accuracy: 0.7246 - val_loss: 0.9615\n",
            "Epoch 18/50\n",
            "\u001b[1m23/23\u001b[0m \u001b[32m━━━━━━━━━━━━━━━━━━━━\u001b[0m\u001b[37m\u001b[0m \u001b[1m0s\u001b[0m 3ms/step - Precision: 0.9763 - Recall: 0.8751 - accuracy: 0.9465 - loss: 0.2659 - val_Precision: 0.7358 - val_Recall: 0.5652 - val_accuracy: 0.6812 - val_loss: 0.9686\n",
            "Epoch 19/50\n",
            "\u001b[1m23/23\u001b[0m \u001b[32m━━━━━━━━━━━━━━━━━━━━\u001b[0m\u001b[37m\u001b[0m \u001b[1m0s\u001b[0m 4ms/step - Precision: 0.9816 - Recall: 0.8962 - accuracy: 0.9270 - loss: 0.2599 - val_Precision: 0.7368 - val_Recall: 0.6087 - val_accuracy: 0.6957 - val_loss: 0.9549\n",
            "Epoch 20/50\n",
            "\u001b[1m23/23\u001b[0m \u001b[32m━━━━━━━━━━━━━━━━━━━━\u001b[0m\u001b[37m\u001b[0m \u001b[1m0s\u001b[0m 4ms/step - Precision: 0.9736 - Recall: 0.8860 - accuracy: 0.9383 - loss: 0.2632 - val_Precision: 0.8036 - val_Recall: 0.6522 - val_accuracy: 0.7246 - val_loss: 0.9834\n",
            "Epoch 21/50\n",
            "\u001b[1m23/23\u001b[0m \u001b[32m━━━━━━━━━━━━━━━━━━━━\u001b[0m\u001b[37m\u001b[0m \u001b[1m0s\u001b[0m 4ms/step - Precision: 0.9913 - Recall: 0.9419 - accuracy: 0.9613 - loss: 0.1847 - val_Precision: 0.7719 - val_Recall: 0.6377 - val_accuracy: 0.7246 - val_loss: 1.0328\n",
            "Epoch 22/50\n",
            "\u001b[1m23/23\u001b[0m \u001b[32m━━━━━━━━━━━━━━━━━━━━\u001b[0m\u001b[37m\u001b[0m \u001b[1m0s\u001b[0m 4ms/step - Precision: 0.9582 - Recall: 0.8724 - accuracy: 0.9233 - loss: 0.2502 - val_Precision: 0.7797 - val_Recall: 0.6667 - val_accuracy: 0.7391 - val_loss: 0.9933\n",
            "Epoch 23/50\n",
            "\u001b[1m23/23\u001b[0m \u001b[32m━━━━━━━━━━━━━━━━━━━━\u001b[0m\u001b[37m\u001b[0m \u001b[1m0s\u001b[0m 3ms/step - Precision: 0.9826 - Recall: 0.9406 - accuracy: 0.9555 - loss: 0.1880 - val_Precision: 0.7966 - val_Recall: 0.6812 - val_accuracy: 0.7246 - val_loss: 0.9954\n",
            "Epoch 24/50\n",
            "\u001b[1m23/23\u001b[0m \u001b[32m━━━━━━━━━━━━━━━━━━━━\u001b[0m\u001b[37m\u001b[0m \u001b[1m0s\u001b[0m 4ms/step - Precision: 0.9797 - Recall: 0.9191 - accuracy: 0.9771 - loss: 0.1728 - val_Precision: 0.7759 - val_Recall: 0.6522 - val_accuracy: 0.7101 - val_loss: 1.0693\n",
            "Epoch 25/50\n",
            "\u001b[1m23/23\u001b[0m \u001b[32m━━━━━━━━━━━━━━━━━━━━\u001b[0m\u001b[37m\u001b[0m \u001b[1m0s\u001b[0m 3ms/step - Precision: 0.9837 - Recall: 0.9546 - accuracy: 0.9754 - loss: 0.1348 - val_Precision: 0.7759 - val_Recall: 0.6522 - val_accuracy: 0.7391 - val_loss: 1.0065\n",
            "Epoch 26/50\n",
            "\u001b[1m23/23\u001b[0m \u001b[32m━━━━━━━━━━━━━━━━━━━━\u001b[0m\u001b[37m\u001b[0m \u001b[1m0s\u001b[0m 4ms/step - Precision: 0.9741 - Recall: 0.9397 - accuracy: 0.9606 - loss: 0.1733 - val_Precision: 0.7414 - val_Recall: 0.6232 - val_accuracy: 0.6957 - val_loss: 1.1441\n",
            "Epoch 27/50\n",
            "\u001b[1m23/23\u001b[0m \u001b[32m━━━━━━━━━━━━━━━━━━━━\u001b[0m\u001b[37m\u001b[0m \u001b[1m0s\u001b[0m 3ms/step - Precision: 0.9691 - Recall: 0.9418 - accuracy: 0.9475 - loss: 0.1715 - val_Precision: 0.7797 - val_Recall: 0.6667 - val_accuracy: 0.7246 - val_loss: 1.0846\n",
            "Epoch 28/50\n",
            "\u001b[1m23/23\u001b[0m \u001b[32m━━━━━━━━━━━━━━━━━━━━\u001b[0m\u001b[37m\u001b[0m \u001b[1m0s\u001b[0m 3ms/step - Precision: 0.9935 - Recall: 0.9663 - accuracy: 0.9881 - loss: 0.0992 - val_Precision: 0.7541 - val_Recall: 0.6667 - val_accuracy: 0.6957 - val_loss: 1.0728\n",
            "Epoch 29/50\n",
            "\u001b[1m23/23\u001b[0m \u001b[32m━━━━━━━━━━━━━━━━━━━━\u001b[0m\u001b[37m\u001b[0m \u001b[1m0s\u001b[0m 3ms/step - Precision: 0.9888 - Recall: 0.9633 - accuracy: 0.9822 - loss: 0.1146 - val_Precision: 0.7759 - val_Recall: 0.6522 - val_accuracy: 0.7101 - val_loss: 1.1855\n",
            "Epoch 30/50\n",
            "\u001b[1m23/23\u001b[0m \u001b[32m━━━━━━━━━━━━━━━━━━━━\u001b[0m\u001b[37m\u001b[0m \u001b[1m0s\u001b[0m 4ms/step - Precision: 0.9823 - Recall: 0.9749 - accuracy: 0.9822 - loss: 0.1078 - val_Precision: 0.7833 - val_Recall: 0.6812 - val_accuracy: 0.7391 - val_loss: 1.0593\n",
            "Epoch 31/50\n",
            "\u001b[1m23/23\u001b[0m \u001b[32m━━━━━━━━━━━━━━━━━━━━\u001b[0m\u001b[37m\u001b[0m \u001b[1m0s\u001b[0m 4ms/step - Precision: 0.9769 - Recall: 0.9685 - accuracy: 0.9757 - loss: 0.1054 - val_Precision: 0.7667 - val_Recall: 0.6667 - val_accuracy: 0.7101 - val_loss: 1.0855\n",
            "Epoch 32/50\n",
            "\u001b[1m23/23\u001b[0m \u001b[32m━━━━━━━━━━━━━━━━━━━━\u001b[0m\u001b[37m\u001b[0m \u001b[1m0s\u001b[0m 3ms/step - Precision: 0.9956 - Recall: 0.9290 - accuracy: 0.9867 - loss: 0.1244 - val_Precision: 0.7797 - val_Recall: 0.6667 - val_accuracy: 0.7246 - val_loss: 1.0250\n",
            "Epoch 33/50\n",
            "\u001b[1m23/23\u001b[0m \u001b[32m━━━━━━━━━━━━━━━━━━━━\u001b[0m\u001b[37m\u001b[0m \u001b[1m0s\u001b[0m 3ms/step - Precision: 0.9934 - Recall: 0.9601 - accuracy: 0.9847 - loss: 0.1134 - val_Precision: 0.7627 - val_Recall: 0.6522 - val_accuracy: 0.6957 - val_loss: 1.1619\n",
            "Epoch 34/50\n",
            "\u001b[1m23/23\u001b[0m \u001b[32m━━━━━━━━━━━━━━━━━━━━\u001b[0m\u001b[37m\u001b[0m \u001b[1m0s\u001b[0m 3ms/step - Precision: 0.9966 - Recall: 0.9736 - accuracy: 0.9782 - loss: 0.0914 - val_Precision: 0.7869 - val_Recall: 0.6957 - val_accuracy: 0.7246 - val_loss: 1.0683\n",
            "Epoch 35/50\n",
            "\u001b[1m23/23\u001b[0m \u001b[32m━━━━━━━━━━━━━━━━━━━━\u001b[0m\u001b[37m\u001b[0m \u001b[1m0s\u001b[0m 3ms/step - Precision: 0.9887 - Recall: 0.9841 - accuracy: 0.9888 - loss: 0.0822 - val_Precision: 0.7759 - val_Recall: 0.6522 - val_accuracy: 0.6957 - val_loss: 1.1522\n",
            "Epoch 36/50\n",
            "\u001b[1m23/23\u001b[0m \u001b[32m━━━━━━━━━━━━━━━━━━━━\u001b[0m\u001b[37m\u001b[0m \u001b[1m0s\u001b[0m 4ms/step - Precision: 0.9783 - Recall: 0.9766 - accuracy: 0.9774 - loss: 0.0737 - val_Precision: 0.7705 - val_Recall: 0.6812 - val_accuracy: 0.7101 - val_loss: 1.1101\n",
            "Epoch 37/50\n",
            "\u001b[1m23/23\u001b[0m \u001b[32m━━━━━━━━━━━━━━━━━━━━\u001b[0m\u001b[37m\u001b[0m \u001b[1m0s\u001b[0m 3ms/step - Precision: 0.9872 - Recall: 0.9711 - accuracy: 0.9865 - loss: 0.0860 - val_Precision: 0.7619 - val_Recall: 0.6957 - val_accuracy: 0.7101 - val_loss: 1.1712\n",
            "Epoch 38/50\n",
            "\u001b[1m23/23\u001b[0m \u001b[32m━━━━━━━━━━━━━━━━━━━━\u001b[0m\u001b[37m\u001b[0m \u001b[1m0s\u001b[0m 4ms/step - Precision: 0.9841 - Recall: 0.9592 - accuracy: 0.9712 - loss: 0.0953 - val_Precision: 0.7377 - val_Recall: 0.6522 - val_accuracy: 0.6957 - val_loss: 1.1700\n",
            "Epoch 39/50\n",
            "\u001b[1m23/23\u001b[0m \u001b[32m━━━━━━━━━━━━━━━━━━━━\u001b[0m\u001b[37m\u001b[0m \u001b[1m0s\u001b[0m 4ms/step - Precision: 0.9863 - Recall: 0.9675 - accuracy: 0.9865 - loss: 0.0730 - val_Precision: 0.7619 - val_Recall: 0.6957 - val_accuracy: 0.7246 - val_loss: 1.0842\n",
            "Epoch 40/50\n",
            "\u001b[1m23/23\u001b[0m \u001b[32m━━━━━━━━━━━━━━━━━━━━\u001b[0m\u001b[37m\u001b[0m \u001b[1m0s\u001b[0m 4ms/step - Precision: 1.0000 - Recall: 0.9829 - accuracy: 0.9895 - loss: 0.0648 - val_Precision: 0.7500 - val_Recall: 0.6957 - val_accuracy: 0.7101 - val_loss: 1.1221\n",
            "Epoch 41/50\n",
            "\u001b[1m23/23\u001b[0m \u001b[32m━━━━━━━━━━━━━━━━━━━━\u001b[0m\u001b[37m\u001b[0m \u001b[1m0s\u001b[0m 3ms/step - Precision: 0.9992 - Recall: 0.9936 - accuracy: 0.9992 - loss: 0.0438 - val_Precision: 0.7656 - val_Recall: 0.7101 - val_accuracy: 0.7246 - val_loss: 1.1180\n",
            "Epoch 42/50\n",
            "\u001b[1m23/23\u001b[0m \u001b[32m━━━━━━━━━━━━━━━━━━━━\u001b[0m\u001b[37m\u001b[0m \u001b[1m0s\u001b[0m 3ms/step - Precision: 0.9924 - Recall: 0.9840 - accuracy: 0.9899 - loss: 0.0606 - val_Precision: 0.7463 - val_Recall: 0.7246 - val_accuracy: 0.7391 - val_loss: 1.1705\n",
            "Epoch 43/50\n",
            "\u001b[1m23/23\u001b[0m \u001b[32m━━━━━━━━━━━━━━━━━━━━\u001b[0m\u001b[37m\u001b[0m \u001b[1m0s\u001b[0m 3ms/step - Precision: 0.9867 - Recall: 0.9704 - accuracy: 0.9771 - loss: 0.0723 - val_Precision: 0.7188 - val_Recall: 0.6667 - val_accuracy: 0.7101 - val_loss: 1.2029\n",
            "Epoch 44/50\n",
            "\u001b[1m23/23\u001b[0m \u001b[32m━━━━━━━━━━━━━━━━━━━━\u001b[0m\u001b[37m\u001b[0m \u001b[1m0s\u001b[0m 3ms/step - Precision: 0.9643 - Recall: 0.9584 - accuracy: 0.9605 - loss: 0.0877 - val_Precision: 0.7164 - val_Recall: 0.6957 - val_accuracy: 0.6957 - val_loss: 1.2088\n",
            "Epoch 45/50\n",
            "\u001b[1m23/23\u001b[0m \u001b[32m━━━━━━━━━━━━━━━━━━━━\u001b[0m\u001b[37m\u001b[0m \u001b[1m0s\u001b[0m 4ms/step - Precision: 0.9880 - Recall: 0.9702 - accuracy: 0.9858 - loss: 0.0722 - val_Precision: 0.7344 - val_Recall: 0.6812 - val_accuracy: 0.7101 - val_loss: 1.1206\n",
            "Epoch 46/50\n",
            "\u001b[1m23/23\u001b[0m \u001b[32m━━━━━━━━━━━━━━━━━━━━\u001b[0m\u001b[37m\u001b[0m \u001b[1m0s\u001b[0m 4ms/step - Precision: 0.9813 - Recall: 0.9754 - accuracy: 0.9806 - loss: 0.0802 - val_Precision: 0.7460 - val_Recall: 0.6812 - val_accuracy: 0.6957 - val_loss: 1.1861\n",
            "Epoch 47/50\n",
            "\u001b[1m23/23\u001b[0m \u001b[32m━━━━━━━━━━━━━━━━━━━━\u001b[0m\u001b[37m\u001b[0m \u001b[1m0s\u001b[0m 3ms/step - Precision: 0.9909 - Recall: 0.9868 - accuracy: 0.9909 - loss: 0.0545 - val_Precision: 0.7656 - val_Recall: 0.7101 - val_accuracy: 0.7246 - val_loss: 1.1529\n",
            "Epoch 48/50\n",
            "\u001b[1m23/23\u001b[0m \u001b[32m━━━━━━━━━━━━━━━━━━━━\u001b[0m\u001b[37m\u001b[0m \u001b[1m0s\u001b[0m 3ms/step - Precision: 0.9885 - Recall: 0.9806 - accuracy: 0.9885 - loss: 0.0559 - val_Precision: 0.7538 - val_Recall: 0.7101 - val_accuracy: 0.7391 - val_loss: 1.1801\n",
            "Epoch 49/50\n",
            "\u001b[1m23/23\u001b[0m \u001b[32m━━━━━━━━━━━━━━━━━━━━\u001b[0m\u001b[37m\u001b[0m \u001b[1m0s\u001b[0m 3ms/step - Precision: 0.9982 - Recall: 0.9982 - accuracy: 0.9982 - loss: 0.0276 - val_Precision: 0.7619 - val_Recall: 0.6957 - val_accuracy: 0.7391 - val_loss: 1.1725\n",
            "Epoch 50/50\n",
            "\u001b[1m23/23\u001b[0m \u001b[32m━━━━━━━━━━━━━━━━━━━━\u001b[0m\u001b[37m\u001b[0m \u001b[1m0s\u001b[0m 4ms/step - Precision: 0.9918 - Recall: 0.9877 - accuracy: 0.9877 - loss: 0.0446 - val_Precision: 0.7692 - val_Recall: 0.7246 - val_accuracy: 0.7246 - val_loss: 1.1667\n"
          ]
        }
      ]
    },
    {
      "cell_type": "markdown",
      "source": [
        "# 8. Model Evaluation"
      ],
      "metadata": {
        "id": "z9RFvEV-3Uyn"
      }
    },
    {
      "cell_type": "code",
      "source": [
        "# Model Evaluation\n",
        "\n",
        "print(\"\\nEvaluating model...\")\n",
        "\n",
        "# Plot training history\n",
        "plt.figure(figsize=(12, 4))\n",
        "\n",
        "plt.subplot(1, 2, 1)\n",
        "plt.plot(history.history['accuracy'], label='Training Accuracy')\n",
        "plt.plot(history.history['val_accuracy'], label='Validation Accuracy')\n",
        "plt.title('Model Accuracy')\n",
        "plt.xlabel('Epoch')\n",
        "plt.ylabel('Accuracy')\n",
        "plt.legend()\n",
        "\n",
        "plt.subplot(1, 2, 2)\n",
        "plt.plot(history.history['loss'], label='Training Loss')\n",
        "plt.plot(history.history['val_loss'], label='Validation Loss')\n",
        "plt.title('Model Loss')\n",
        "plt.xlabel('Epoch')\n",
        "plt.ylabel('Loss')\n",
        "plt.legend()\n",
        "\n",
        "plt.tight_layout()\n",
        "plt.show()\n",
        "\n",
        "# Calculate validation metrics\n",
        "y_pred = model.predict(X_val)\n",
        "y_pred_classes = np.argmax(y_pred, axis=1)\n",
        "y_val_classes = np.argmax(y_val, axis=1)\n",
        "\n",
        "print(\"\\nValidation Metrics:\")\n",
        "print(f\"Accuracy: {accuracy_score(y_val_classes, y_pred_classes):.4f}\")\n",
        "print(f\"F1 Score: {f1_score(y_val_classes, y_pred_classes, average='weighted'):.4f}\")\n",
        "\n",
        "# Plot confusion matrix\n",
        "cm = confusion_matrix(y_val_classes, y_pred_classes)\n",
        "plt.figure(figsize=(10, 8))\n",
        "sns.heatmap(cm, annot=True, fmt='d', cmap='Blues')\n",
        "plt.title('Confusion Matrix')\n",
        "plt.xlabel('Predicted')\n",
        "plt.ylabel('True')\n",
        "plt.show()"
      ],
      "metadata": {
        "colab": {
          "base_uri": "https://localhost:8080/",
          "height": 1000
        },
        "id": "t8ed1fMHwASH",
        "outputId": "32978b62-2f0f-466f-cd3f-6f1fce6d64c7"
      },
      "execution_count": 21,
      "outputs": [
        {
          "output_type": "stream",
          "name": "stdout",
          "text": [
            "\n",
            "Evaluating model...\n"
          ]
        },
        {
          "output_type": "display_data",
          "data": {
            "text/plain": [
              "<Figure size 1200x400 with 2 Axes>"
            ],
            "image/png": "[encoded data removed]"
          },
          "metadata": {}
        },
        {
          "output_type": "stream",
          "name": "stdout",
          "text": [
            "\u001b[1m3/3\u001b[0m \u001b[32m━━━━━━━━━━━━━━━━━━━━\u001b[0m\u001b[37m\u001b[0m \u001b[1m1s\u001b[0m 131ms/step\n",
            "\n",
            "Validation Metrics:\n",
            "Accuracy: 0.7246\n",
            "F1 Score: 0.7248\n"
          ]
        },
        {
          "output_type": "display_data",
          "data": {
            "text/plain": [
              "<Figure size 1000x800 with 2 Axes>"
            ],
            "image/png": "[encoded data removed]"
          },
          "metadata": {}
        }
      ]
    },
    {
      "cell_type": "markdown",
      "source": [
        "# 9. Save Model"
      ],
      "metadata": {
        "id": "ojPfaWfI3e5L"
      }
    },
    {
      "cell_type": "code",
      "source": [
        "# Save Model\n",
        "\n",
        "model.save('github_chatbot_model.h5')\n",
        "print(\"\\nModel saved successfully!\")"
      ],
      "metadata": {
        "colab": {
          "base_uri": "https://localhost:8080/"
        },
        "id": "xmI3bfQTwS2-",
        "outputId": "a136886f-af27-4aa7-e9e7-1bf0b212f6d6"
      },
      "execution_count": 22,
      "outputs": [
        {
          "output_type": "stream",
          "name": "stderr",
          "text": [
            "WARNING:absl:You are saving your model as an HDF5 file via `model.save()` or `keras.saving.save_model(model)`. This file format is considered legacy. We recommend using instead the native Keras format, e.g. `model.save('my_model.keras')` or `keras.saving.save_model(model, 'my_model.keras')`. \n"
          ]
        },
        {
          "output_type": "stream",
          "name": "stdout",
          "text": [
            "\n",
            "Model saved successfully!\n"
          ]
        }
      ]
    },
    {
      "cell_type": "markdown",
      "source": [
        "# 10. Chatbot Interface"
      ],
      "metadata": {
        "id": "ZFgtNFUp3sM7"
      }
    },
    {
      "cell_type": "code",
      "source": [
        "# Chatbot Interface\n",
        "\n",
        "def predict_class(sentence):\n",
        "    \"\"\"Predict the intent class of a given sentence\"\"\"\n",
        "    embedding = get_bert_embedding(sentence)\n",
        "    res = model.predict(embedding)[0]\n",
        "    ERROR_THRESHOLD = 0.25\n",
        "    results = [[i, r] for i, r in enumerate(res) if r > ERROR_THRESHOLD]\n",
        "    results.sort(key=lambda x: x[1], reverse=True)\n",
        "    return_list = [{'intent': classes[r[0]], 'probability': str(r[1])} for r in results]\n",
        "    return return_list\n",
        "\n",
        "def get_response(intents_list, intents_json):\n",
        "    \"\"\"Get appropriate response based on predicted intent\"\"\"\n",
        "    if not intents_list:\n",
        "        return \"I'm not sure how to help with that. Could you rephrase your question?\"\n",
        "    tag = intents_list[0]['intent']\n",
        "    for i in intents_json['intents']:\n",
        "        if tag in i['tags']:\n",
        "            return random.choice(i['responses'])\n",
        "    return \"I don't understand. Could you try asking in a different way?\""
      ],
      "metadata": {
        "id": "IAeax6oTwJZe"
      },
      "execution_count": 24,
      "outputs": []
    },
    {
      "cell_type": "markdown",
      "source": [
        "11. Interactive Testing\n"
      ],
      "metadata": {
        "id": "uQx3YRK035rG"
      }
    },
    {
      "cell_type": "code",
      "source": [
        "# Interactive Testing\n",
        "\n",
        "print(\"\\nGitHub ChatBot is Active (type 'quit' to exit)\")\n",
        "print(\"Example queries:\")\n",
        "print(\"- How do I create a repository?\")\n",
        "print(\"- What is a pull request?\")\n",
        "print(\"- How do I fork a repository?\")\n",
        "\n",
        "while True:\n",
        "    message = input(\"\\nYou: \")\n",
        "    if message.lower() in ['quit', 'exit']:\n",
        "        print(\"Goodbye!\")\n",
        "        break\n",
        "\n",
        "    ints = predict_class(message)\n",
        "    response = get_response(ints, dict_)\n",
        "    print(f\"Bot: {response}\")\n",
        "\n",
        "    # Log confidence scores for analysis\n",
        "    if ints:\n",
        "        print(f\"Confidence: {float(ints[0]['probability']):.2%}\")"
      ],
      "metadata": {
        "colab": {
          "base_uri": "https://localhost:8080/"
        },
        "id": "q9d30-NCwjmY",
        "outputId": "13ef7331-cf1d-4e2a-e9f7-07a8c8ab5873"
      },
      "execution_count": 25,
      "outputs": [
        {
          "output_type": "stream",
          "name": "stdout",
          "text": [
            "\n",
            "GitHub ChatBot is Active (type 'quit' to exit)\n",
            "Example queries:\n",
            "- How do I create a repository?\n",
            "- What is a pull request?\n",
            "- How do I fork a repository?\n",
            "\n",
            "You: What is a pull request?\n",
            "\u001b[1m1/1\u001b[0m \u001b[32m━━━━━━━━━━━━━━━━━━━━\u001b[0m\u001b[37m\u001b[0m \u001b[1m0s\u001b[0m 141ms/step\n",
            "Bot: Go to the repository settings, click Collaborators, and invite users.\n",
            "Confidence: 50.44%\n",
            "\n",
            "You: Git commit\n",
            "\u001b[1m1/1\u001b[0m \u001b[32m━━━━━━━━━━━━━━━━━━━━\u001b[0m\u001b[37m\u001b[0m \u001b[1m0s\u001b[0m 16ms/step\n",
            "Bot: Use git commit -m 'your message' to save your changes.\n",
            "Confidence: 86.19%\n",
            "\n",
            "You: How to create repository\n",
            "\u001b[1m1/1\u001b[0m \u001b[32m━━━━━━━━━━━━━━━━━━━━\u001b[0m\u001b[37m\u001b[0m \u001b[1m0s\u001b[0m 16ms/step\n",
            "Bot: Go to GitHub, click 'New', and follow the steps.\n",
            "Confidence: 93.68%\n",
            "\n",
            "You: Thanks!\n",
            "\u001b[1m1/1\u001b[0m \u001b[32m━━━━━━━━━━━━━━━━━━━━\u001b[0m\u001b[37m\u001b[0m \u001b[1m0s\u001b[0m 24ms/step\n",
            "Bot: You're welcome!\n",
            "Confidence: 100.00%\n",
            "\n",
            "You: Bye!\n",
            "\u001b[1m1/1\u001b[0m \u001b[32m━━━━━━━━━━━━━━━━━━━━\u001b[0m\u001b[37m\u001b[0m \u001b[1m0s\u001b[0m 17ms/step\n",
            "Bot: Goodbye! Take care!\n",
            "Confidence: 100.00%\n",
            "\n",
            "You: quit\n",
            "Goodbye!\n"
          ]
        }
      ]
    },
    {
      "cell_type": "markdown",
      "source": [],
      "metadata": {
        "id": "IBo12EqTxz9g"
      }
    }
  ]
}